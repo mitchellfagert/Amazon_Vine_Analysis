{
  "nbformat": 4,
  "nbformat_minor": 0,
  "metadata": {
    "colab": {
      "provenance": [],
      "collapsed_sections": []
    },
    "kernelspec": {
      "name": "python3",
      "display_name": "Python 3"
    },
    "language_info": {
      "name": "python"
    }
  },
  "cells": [
    {
      "cell_type": "code",
      "execution_count": null,
      "metadata": {
        "colab": {
          "base_uri": "https://localhost:8080/"
        },
        "id": "SM9EB41Fsg1W",
        "outputId": "aa4b4a42-b2b6-494d-b586-493c3b4a023c"
      },
      "outputs": [
        {
          "output_type": "stream",
          "name": "stdout",
          "text": [
            "\r0% [Working]\r            \rHit:1 http://archive.ubuntu.com/ubuntu bionic InRelease\n",
            "\r0% [Waiting for headers] [Connecting to cloud.r-project.org (108.157.162.110)] \r                                                                               \rGet:2 http://security.ubuntu.com/ubuntu bionic-security InRelease [88.7 kB]\n",
            "\r0% [Waiting for headers] [2 InRelease 14.2 kB/88.7 kB 16%] [Connected to cloud.\r0% [1 InRelease gpgv 242 kB] [Waiting for headers] [2 InRelease 14.2 kB/88.7 kB\r                                                                               \rGet:3 http://archive.ubuntu.com/ubuntu bionic-updates InRelease [88.7 kB]\n",
            "\r0% [1 InRelease gpgv 242 kB] [3 InRelease 14.2 kB/88.7 kB 16%] [2 InRelease 14.\r                                                                               \rGet:4 https://cloud.r-project.org/bin/linux/ubuntu bionic-cran40/ InRelease [3,626 B]\n",
            "\r0% [1 InRelease gpgv 242 kB] [3 InRelease 46.0 kB/88.7 kB 52%] [2 InRelease 46.\r0% [1 InRelease gpgv 242 kB] [Waiting for headers] [2 InRelease 88.7 kB/88.7 kB\r0% [1 InRelease gpgv 242 kB] [Waiting for headers] [Waiting for headers] [Waiti\r                                                                               \rGet:5 http://ppa.launchpad.net/c2d4u.team/c2d4u4.0+/ubuntu bionic InRelease [15.9 kB]\n",
            "\r0% [1 InRelease gpgv 242 kB] [Waiting for headers] [Waiting for headers] [5 InR\r                                                                               \rIgn:6 https://developer.download.nvidia.com/compute/machine-learning/repos/ubuntu1804/x86_64  InRelease\n",
            "\r0% [1 InRelease gpgv 242 kB] [Waiting for headers] [Waiting for headers] [5 InR\r                                                                               \rGet:7 https://developer.download.nvidia.com/compute/cuda/repos/ubuntu1804/x86_64  InRelease [1,581 B]\n",
            "\r0% [1 InRelease gpgv 242 kB] [Waiting for headers] [5 InRelease 14.2 kB/15.9 kB\r                                                                               \rGet:8 http://archive.ubuntu.com/ubuntu bionic-backports InRelease [83.3 kB]\n",
            "Hit:9 https://developer.download.nvidia.com/compute/machine-learning/repos/ubuntu1804/x86_64  Release\n",
            "Hit:10 http://ppa.launchpad.net/cran/libgit2/ubuntu bionic InRelease\n",
            "Hit:11 http://ppa.launchpad.net/deadsnakes/ppa/ubuntu bionic InRelease\n",
            "Get:12 http://ppa.launchpad.net/graphics-drivers/ppa/ubuntu bionic InRelease [21.3 kB]\n",
            "Get:13 http://archive.ubuntu.com/ubuntu bionic-updates/universe amd64 Packages [2,323 kB]\n",
            "Get:14 http://archive.ubuntu.com/ubuntu bionic-updates/main amd64 Packages [3,422 kB]\n",
            "Get:15 http://security.ubuntu.com/ubuntu bionic-security/universe amd64 Packages [1,546 kB]\n",
            "Get:16 http://security.ubuntu.com/ubuntu bionic-security/main amd64 Packages [2,990 kB]\n",
            "Get:17 https://developer.download.nvidia.com/compute/cuda/repos/ubuntu1804/x86_64  Packages [947 kB]\n",
            "Get:19 http://ppa.launchpad.net/c2d4u.team/c2d4u4.0+/ubuntu bionic/main Sources [2,161 kB]\n",
            "Get:20 http://ppa.launchpad.net/c2d4u.team/c2d4u4.0+/ubuntu bionic/main amd64 Packages [1,107 kB]\n",
            "Get:21 http://ppa.launchpad.net/graphics-drivers/ppa/ubuntu bionic/main amd64 Packages [48.3 kB]\n",
            "Fetched 14.8 MB in 5s (2,746 kB/s)\n",
            "Reading package lists... Done\n"
          ]
        }
      ],
      "source": [
        "import os\n",
        "# Find the latest version of spark 3.0 from http://www.apache.org/dist/spark/ and enter as the spark version\n",
        "# For example:\n",
        "# spark_version = 'spark-3.1.3'\n",
        "spark_version = 'spark-3.1.3'\n",
        "os.environ['SPARK_VERSION']=spark_version\n",
        "\n",
        "# Install Spark and Java\n",
        "!apt-get update\n",
        "!apt-get install openjdk-11-jdk-headless -qq > /dev/null\n",
        "!wget -q http://www.apache.org/dist/spark/$SPARK_VERSION/$SPARK_VERSION-bin-hadoop2.7.tgz\n",
        "!tar xf $SPARK_VERSION-bin-hadoop2.7.tgz\n",
        "!pip install -q findspark\n",
        "\n",
        "# Set Environment Variables\n",
        "import os\n",
        "os.environ[\"JAVA_HOME\"] = \"/usr/lib/jvm/java-11-openjdk-amd64\"\n",
        "os.environ[\"SPARK_HOME\"] = f\"/content/{spark_version}-bin-hadoop2.7\"\n",
        "\n",
        "# Start a SparkSession\n",
        "import findspark\n",
        "findspark.init()"
      ]
    },
    {
      "cell_type": "code",
      "source": [
        "# Download the Postgres driver that will allow Spark to interact with Postgres.\n",
        "!wget https://jdbc.postgresql.org/download/postgresql-42.2.16.jar"
      ],
      "metadata": {
        "colab": {
          "base_uri": "https://localhost:8080/"
        },
        "id": "fnCkd6PRsrv6",
        "outputId": "8e89ad75-ca8c-4fac-c966-6b8ec3c17004"
      },
      "execution_count": null,
      "outputs": [
        {
          "output_type": "stream",
          "name": "stdout",
          "text": [
            "--2022-10-05 01:12:10--  https://jdbc.postgresql.org/download/postgresql-42.2.16.jar\n",
            "Resolving jdbc.postgresql.org (jdbc.postgresql.org)... 72.32.157.228, 2001:4800:3e1:1::228\n",
            "Connecting to jdbc.postgresql.org (jdbc.postgresql.org)|72.32.157.228|:443... connected.\n",
            "HTTP request sent, awaiting response... 200 OK\n",
            "Length: 1002883 (979K) [application/java-archive]\n",
            "Saving to: ‘postgresql-42.2.16.jar’\n",
            "\n",
            "postgresql-42.2.16. 100%[===================>] 979.38K  --.-KB/s    in 0.1s    \n",
            "\n",
            "2022-10-05 01:12:10 (6.39 MB/s) - ‘postgresql-42.2.16.jar’ saved [1002883/1002883]\n",
            "\n"
          ]
        }
      ]
    },
    {
      "cell_type": "code",
      "source": [
        "from pyspark.sql import SparkSession\n",
        "spark = SparkSession.builder.appName(\"M16-Amazon-Challenge\").config(\"spark.driver.extraClassPath\",\"/content/postgresql-42.2.16.jar\").getOrCreate()"
      ],
      "metadata": {
        "id": "JyS951OVszwb"
      },
      "execution_count": null,
      "outputs": []
    },
    {
      "cell_type": "code",
      "source": [
        "from pyspark import SparkFiles\n",
        "url = \"https://s3.amazonaws.com/amazon-reviews-pds/tsv/amazon_reviews_us_Pet_Products_v1_00.tsv.gz\"\n",
        "spark.sparkContext.addFile(url)\n",
        "df = spark.read.option(\"encoding\", \"UTF-8\").csv(SparkFiles.get(\"amazon_reviews_us_Pet_Products_v1_00.tsv.gz\"), sep=\"\\t\", header=True, inferSchema=True)\n",
        "df.show()"
      ],
      "metadata": {
        "colab": {
          "base_uri": "https://localhost:8080/"
        },
        "id": "57NHFU_Ls3Hp",
        "outputId": "c5c382e8-3ba1-432f-bc0c-635bd557b04a"
      },
      "execution_count": null,
      "outputs": [
        {
          "output_type": "stream",
          "name": "stdout",
          "text": [
            "+-----------+-----------+--------------+----------+--------------+--------------------+----------------+-----------+-------------+-----------+----+-----------------+--------------------+--------------------+-----------+\n",
            "|marketplace|customer_id|     review_id|product_id|product_parent|       product_title|product_category|star_rating|helpful_votes|total_votes|vine|verified_purchase|     review_headline|         review_body|review_date|\n",
            "+-----------+-----------+--------------+----------+--------------+--------------------+----------------+-----------+-------------+-----------+----+-----------------+--------------------+--------------------+-----------+\n",
            "|         US|   28794885| REAKC26P07MDN|B00Q0K9604|     510387886|(8-Pack) EZwhelp ...|    Pet Products|          5|            0|          0|   N|                Y|A great purchase ...|Best belly bands ...| 2015-08-31|\n",
            "|         US|   11488901|R3NU7OMZ4HQIEG|B00MBW5O9W|     912374672|Warren Eckstein's...|    Pet Products|          2|            0|          1|   N|                Y|My dogs love Hugs...|My dogs love Hugs...| 2015-08-31|\n",
            "|         US|   43214993|R14QJW3XF8QO1P|B0084OHUIO|     902215727|Tyson's True Chew...|    Pet Products|          5|            0|          0|   N|                Y|I have been purch...|I have been purch...| 2015-08-31|\n",
            "|         US|   12835065|R2HB7AX0394ZGY|B001GS71K2|     568880110|Soft Side Pet Cra...|    Pet Products|          5|            0|          0|   N|                Y|it is easy to ope...|It is extremely w...| 2015-08-31|\n",
            "|         US|   26334022| RGKMPDQGSAHR3|B004ABH1LG|     692846826|EliteField 3-Door...|    Pet Products|          5|            0|          0|   N|                Y|           Dog crate|Worked really wel...| 2015-08-31|\n",
            "|         US|   22283621|R1DJCVPQGCV66E|B00AX0LFM4|     590674141|Carlson 68-Inch W...|    Pet Products|          5|            0|          0|   N|                Y|          Five Stars|I love my gates! ...| 2015-08-31|\n",
            "|         US|   14469895|R3V52EAWLPBFQG|B00DQFZGZ0|     688538603|Dog Seat Cover Wi...|    Pet Products|          3|            0|          0|   N|                Y|Seat belt tugs on...|Didn't quite work...| 2015-08-31|\n",
            "|         US|   50896354|R3DKO8J1J28QBI|B00DIRF9US|     742358789|The Bird Catcher ...|    Pet Products|          2|            0|          0|   N|                Y|Great Pole, but S...|I had the origina...| 2015-08-31|\n",
            "|         US|   18440567| R764DBXGRNECG|B00JRCBFUG|     869798483|Cat Bed - Purrfec...|    Pet Products|          5|            1|          1|   N|                N|     My cat loves it|The pad is very s...| 2015-08-31|\n",
            "|         US|   50502362| RW1853GAT0Z9F|B000L3XYZ4|     501118658|PetSafe Drinkwell...|    Pet Products|          5|            0|          0|   N|                Y|          Five Stars|My cat drinks mor...| 2015-08-31|\n",
            "|         US|   33930128|R33GITXNUF1AD4|B00BOEXWFG|     454737777|Contech ZenDog Ca...|    Pet Products|          2|            0|          0|   N|                Y|Also had to pull ...|Much smaller than...| 2015-08-31|\n",
            "|         US|   43534290|R1H7AVM81TAYRV|B001HBBQKY|     420905252|Wellness Crunchy ...|    Pet Products|          1|            2|          2|   N|                Y|DO NOT PURCHASE -...|I used to love th...| 2015-08-31|\n",
            "|         US|   45555864|R2ZOYAQZNNZZWV|B007O1FHB0|     302588963|Rx Vitamins Essen...|    Pet Products|          5|            0|          0|   N|                Y|          Five Stars|Recommended by my...| 2015-08-31|\n",
            "|         US|   11147406|R2FN1H3CGW6J8H|B001P3NU30|     525778264|Virbac C.E.T. Enz...|    Pet Products|          1|            0|          0|   N|                Y|Received wrong pr...|Yes I  ordered fo...| 2015-08-31|\n",
            "|         US|    6495678| RJB41Q575XNG4|B00ZP6HS6S|     414117299|Kitty Shack - 2 i...|    Pet Products|          5|            0|          3|   N|                Y|          Five Stars|      It falls apart| 2015-08-31|\n",
            "|         US|    2019416|R28W8BM1587CPF|B00IP05CUA|     833937853|Wellness Kittles ...|    Pet Products|          5|            0|          0|   N|                Y|kitty is ravenous...|My cat really lov...| 2015-08-31|\n",
            "|         US|   40459386|R1II0M01NIG293|B001U8Y598|      85343577|OmniPet Anti-Ant ...|    Pet Products|          2|            0|          0|   N|                N|Maybe other speci...|This bowl is not ...| 2015-08-31|\n",
            "|         US|   23126800| RMB8N0DBRH34O|B011AY4JWO|     499241195|K9KONNECTION [New...|    Pet Products|          5|            1|          1|   N|                Y|This works, dog n...|I have a small do...| 2015-08-31|\n",
            "|         US|   30238476|R24WB6A6WVIPU6|B00DDSHE5A|     409532388|SUNSEED COMPANY 3...|    Pet Products|          5|            0|          0|   N|                Y|    Yummy for Bunny!|Bunny loves it! E...| 2015-08-31|\n",
            "|         US|   35113999| ROCJSH0P9YSRW|B00PJW5OR8|     259271919|CXB1983(TM)Cute P...|    Pet Products|          5|            0|          0|   N|                Y|excellent price, ...|Petfect,,quality ...| 2015-08-31|\n",
            "+-----------+-----------+--------------+----------+--------------+--------------------+----------------+-----------+-------------+-----------+----+-----------------+--------------------+--------------------+-----------+\n",
            "only showing top 20 rows\n",
            "\n"
          ]
        }
      ]
    },
    {
      "cell_type": "code",
      "source": [
        "from pyspark.sql.functions import to_date\n",
        "# Read in the Review dataset as a DataFrame\n",
        "review_df = df.select([\"review_id\",\"customer_id\",\"product_id\",\"product_parent\",\"review_date\"])\n",
        "review_df.show()"
      ],
      "metadata": {
        "colab": {
          "base_uri": "https://localhost:8080/"
        },
        "id": "dj_dhv9gtF7p",
        "outputId": "30da7e40-9ea6-49f3-82cb-6c161a9015e4"
      },
      "execution_count": null,
      "outputs": [
        {
          "output_type": "stream",
          "name": "stdout",
          "text": [
            "+--------------+-----------+----------+--------------+-----------+\n",
            "|     review_id|customer_id|product_id|product_parent|review_date|\n",
            "+--------------+-----------+----------+--------------+-----------+\n",
            "| REAKC26P07MDN|   28794885|B00Q0K9604|     510387886| 2015-08-31|\n",
            "|R3NU7OMZ4HQIEG|   11488901|B00MBW5O9W|     912374672| 2015-08-31|\n",
            "|R14QJW3XF8QO1P|   43214993|B0084OHUIO|     902215727| 2015-08-31|\n",
            "|R2HB7AX0394ZGY|   12835065|B001GS71K2|     568880110| 2015-08-31|\n",
            "| RGKMPDQGSAHR3|   26334022|B004ABH1LG|     692846826| 2015-08-31|\n",
            "|R1DJCVPQGCV66E|   22283621|B00AX0LFM4|     590674141| 2015-08-31|\n",
            "|R3V52EAWLPBFQG|   14469895|B00DQFZGZ0|     688538603| 2015-08-31|\n",
            "|R3DKO8J1J28QBI|   50896354|B00DIRF9US|     742358789| 2015-08-31|\n",
            "| R764DBXGRNECG|   18440567|B00JRCBFUG|     869798483| 2015-08-31|\n",
            "| RW1853GAT0Z9F|   50502362|B000L3XYZ4|     501118658| 2015-08-31|\n",
            "|R33GITXNUF1AD4|   33930128|B00BOEXWFG|     454737777| 2015-08-31|\n",
            "|R1H7AVM81TAYRV|   43534290|B001HBBQKY|     420905252| 2015-08-31|\n",
            "|R2ZOYAQZNNZZWV|   45555864|B007O1FHB0|     302588963| 2015-08-31|\n",
            "|R2FN1H3CGW6J8H|   11147406|B001P3NU30|     525778264| 2015-08-31|\n",
            "| RJB41Q575XNG4|    6495678|B00ZP6HS6S|     414117299| 2015-08-31|\n",
            "|R28W8BM1587CPF|    2019416|B00IP05CUA|     833937853| 2015-08-31|\n",
            "|R1II0M01NIG293|   40459386|B001U8Y598|      85343577| 2015-08-31|\n",
            "| RMB8N0DBRH34O|   23126800|B011AY4JWO|     499241195| 2015-08-31|\n",
            "|R24WB6A6WVIPU6|   30238476|B00DDSHE5A|     409532388| 2015-08-31|\n",
            "| ROCJSH0P9YSRW|   35113999|B00PJW5OR8|     259271919| 2015-08-31|\n",
            "+--------------+-----------+----------+--------------+-----------+\n",
            "only showing top 20 rows\n",
            "\n"
          ]
        }
      ]
    },
    {
      "cell_type": "code",
      "source": [
        "# Create the customers_table DataFrame\n",
        "customers_df = df.groupby(\"customer_id\").agg({\"customer_id\": 'count'}).withColumnRenamed(\"count(customer_id)\", \"customer_count\")\n",
        "customers_df.show()"
      ],
      "metadata": {
        "colab": {
          "base_uri": "https://localhost:8080/"
        },
        "id": "cBo4tynQtWVZ",
        "outputId": "657b3b4a-6176-4b6f-8396-37de387f0101"
      },
      "execution_count": null,
      "outputs": [
        {
          "output_type": "stream",
          "name": "stdout",
          "text": [
            "+-----------+--------------+\n",
            "|customer_id|customer_count|\n",
            "+-----------+--------------+\n",
            "|   10270641|             1|\n",
            "|   18365872|             1|\n",
            "|   16711087|             1|\n",
            "|   10742726|             2|\n",
            "|   41169638|             1|\n",
            "|   43622307|             1|\n",
            "|   24540309|             2|\n",
            "|   28258386|             1|\n",
            "|   35329257|             2|\n",
            "|   14552054|             1|\n",
            "|   14529507|             5|\n",
            "|   45392827|             5|\n",
            "|   47282953|             1|\n",
            "|    8201930|             1|\n",
            "|   20109760|             2|\n",
            "|   16405801|             4|\n",
            "|   15056685|            21|\n",
            "|   20840575|             2|\n",
            "|   39048303|             1|\n",
            "|    5596610|             1|\n",
            "+-----------+--------------+\n",
            "only showing top 20 rows\n",
            "\n"
          ]
        }
      ]
    },
    {
      "cell_type": "code",
      "source": [
        "# Create the products_table DataFrame and drop duplicates. \n",
        "products_df = df.select([\"product_id\", \"product_title\"]).drop_duplicates([\"product_id\"])\n",
        "products_df.show()"
      ],
      "metadata": {
        "colab": {
          "base_uri": "https://localhost:8080/"
        },
        "id": "87daId1Qt1rS",
        "outputId": "eea5cffa-ec0f-4502-a100-b2a4faa9027e"
      },
      "execution_count": null,
      "outputs": [
        {
          "output_type": "stream",
          "name": "stdout",
          "text": [
            "+----------+--------------------+\n",
            "|product_id|       product_title|\n",
            "+----------+--------------------+\n",
            "|0764102885|Saint Bernards (B...|\n",
            "|6041026522|ADOPT ME (I Need ...|\n",
            "|6041027537|CAUTION Red Color...|\n",
            "|B00006OAM1|Petstep 560 PetST...|\n",
            "|B000084E44|Omega Paw Self-Cl...|\n",
            "|B00008DFTI|GOLDEN CAT COMPAN...|\n",
            "|B00008DFTP|Purina Pro Plan F...|\n",
            "|B00008Q378|C.E.T. Flavored T...|\n",
            "|B00014F7XU|Merrick Thanksgiv...|\n",
            "|B00014FBRW|Kitty Nest 2 Cat ...|\n",
            "|B000255O0O|Super Pet Rainbow...|\n",
            "|B0002563BI|Kent Marine Saltw...|\n",
            "|B0002563UY|AquaClear Activat...|\n",
            "|B00025K1HU|  Hikari First Bites|\n",
            "|B00026068S|Marshall Ferret N...|\n",
            "|B00028HN7I|Dr. Harvey's Le D...|\n",
            "|B00028ZLNQ|Lipiderm Gel Cap ...|\n",
            "|B0002AATJ0|PetSafe Door Medi...|\n",
            "|B0002APMH4|TetraMarine Marin...|\n",
            "|B0002APNFA|OSI Spirulina Pel...|\n",
            "+----------+--------------------+\n",
            "only showing top 20 rows\n",
            "\n"
          ]
        }
      ]
    },
    {
      "cell_type": "code",
      "source": [
        "# Create the review_id_table DataFrame. \n",
        "# Convert the 'review_date' column to a date datatype with to_date(\"review_date\", 'yyyy-MM-dd').alias(\"review_date\")\n",
        "review_id_df = df.select([\"review_id\",\"customer_id\",\"product_id\",\"product_parent\", to_date(\"review_date\", 'yyyy-MM-dd').alias(\"review_date\")])\n",
        "review_id_df.show()"
      ],
      "metadata": {
        "colab": {
          "base_uri": "https://localhost:8080/"
        },
        "id": "is7RTIaJuBG5",
        "outputId": "03130fec-bb1b-42b1-e950-288da3bbf353"
      },
      "execution_count": null,
      "outputs": [
        {
          "output_type": "stream",
          "name": "stdout",
          "text": [
            "+--------------+-----------+----------+--------------+-----------+\n",
            "|     review_id|customer_id|product_id|product_parent|review_date|\n",
            "+--------------+-----------+----------+--------------+-----------+\n",
            "| REAKC26P07MDN|   28794885|B00Q0K9604|     510387886| 2015-08-31|\n",
            "|R3NU7OMZ4HQIEG|   11488901|B00MBW5O9W|     912374672| 2015-08-31|\n",
            "|R14QJW3XF8QO1P|   43214993|B0084OHUIO|     902215727| 2015-08-31|\n",
            "|R2HB7AX0394ZGY|   12835065|B001GS71K2|     568880110| 2015-08-31|\n",
            "| RGKMPDQGSAHR3|   26334022|B004ABH1LG|     692846826| 2015-08-31|\n",
            "|R1DJCVPQGCV66E|   22283621|B00AX0LFM4|     590674141| 2015-08-31|\n",
            "|R3V52EAWLPBFQG|   14469895|B00DQFZGZ0|     688538603| 2015-08-31|\n",
            "|R3DKO8J1J28QBI|   50896354|B00DIRF9US|     742358789| 2015-08-31|\n",
            "| R764DBXGRNECG|   18440567|B00JRCBFUG|     869798483| 2015-08-31|\n",
            "| RW1853GAT0Z9F|   50502362|B000L3XYZ4|     501118658| 2015-08-31|\n",
            "|R33GITXNUF1AD4|   33930128|B00BOEXWFG|     454737777| 2015-08-31|\n",
            "|R1H7AVM81TAYRV|   43534290|B001HBBQKY|     420905252| 2015-08-31|\n",
            "|R2ZOYAQZNNZZWV|   45555864|B007O1FHB0|     302588963| 2015-08-31|\n",
            "|R2FN1H3CGW6J8H|   11147406|B001P3NU30|     525778264| 2015-08-31|\n",
            "| RJB41Q575XNG4|    6495678|B00ZP6HS6S|     414117299| 2015-08-31|\n",
            "|R28W8BM1587CPF|    2019416|B00IP05CUA|     833937853| 2015-08-31|\n",
            "|R1II0M01NIG293|   40459386|B001U8Y598|      85343577| 2015-08-31|\n",
            "| RMB8N0DBRH34O|   23126800|B011AY4JWO|     499241195| 2015-08-31|\n",
            "|R24WB6A6WVIPU6|   30238476|B00DDSHE5A|     409532388| 2015-08-31|\n",
            "| ROCJSH0P9YSRW|   35113999|B00PJW5OR8|     259271919| 2015-08-31|\n",
            "+--------------+-----------+----------+--------------+-----------+\n",
            "only showing top 20 rows\n",
            "\n"
          ]
        }
      ]
    },
    {
      "cell_type": "code",
      "source": [
        "# Create the vine_table. DataFrame\n",
        "vine_df = df.select([\"review_id\",\"star_rating\",\"helpful_votes\",\"total_votes\",\"vine\",\"verified_purchase\"])\n",
        "vine_df.show()"
      ],
      "metadata": {
        "colab": {
          "base_uri": "https://localhost:8080/"
        },
        "id": "0MV0-0YPuJL5",
        "outputId": "19f7c1f4-b789-47ca-e571-fd29726f3cef"
      },
      "execution_count": null,
      "outputs": [
        {
          "output_type": "stream",
          "name": "stdout",
          "text": [
            "+--------------+-----------+-------------+-----------+----+-----------------+\n",
            "|     review_id|star_rating|helpful_votes|total_votes|vine|verified_purchase|\n",
            "+--------------+-----------+-------------+-----------+----+-----------------+\n",
            "| REAKC26P07MDN|          5|            0|          0|   N|                Y|\n",
            "|R3NU7OMZ4HQIEG|          2|            0|          1|   N|                Y|\n",
            "|R14QJW3XF8QO1P|          5|            0|          0|   N|                Y|\n",
            "|R2HB7AX0394ZGY|          5|            0|          0|   N|                Y|\n",
            "| RGKMPDQGSAHR3|          5|            0|          0|   N|                Y|\n",
            "|R1DJCVPQGCV66E|          5|            0|          0|   N|                Y|\n",
            "|R3V52EAWLPBFQG|          3|            0|          0|   N|                Y|\n",
            "|R3DKO8J1J28QBI|          2|            0|          0|   N|                Y|\n",
            "| R764DBXGRNECG|          5|            1|          1|   N|                N|\n",
            "| RW1853GAT0Z9F|          5|            0|          0|   N|                Y|\n",
            "|R33GITXNUF1AD4|          2|            0|          0|   N|                Y|\n",
            "|R1H7AVM81TAYRV|          1|            2|          2|   N|                Y|\n",
            "|R2ZOYAQZNNZZWV|          5|            0|          0|   N|                Y|\n",
            "|R2FN1H3CGW6J8H|          1|            0|          0|   N|                Y|\n",
            "| RJB41Q575XNG4|          5|            0|          3|   N|                Y|\n",
            "|R28W8BM1587CPF|          5|            0|          0|   N|                Y|\n",
            "|R1II0M01NIG293|          2|            0|          0|   N|                N|\n",
            "| RMB8N0DBRH34O|          5|            1|          1|   N|                Y|\n",
            "|R24WB6A6WVIPU6|          5|            0|          0|   N|                Y|\n",
            "| ROCJSH0P9YSRW|          5|            0|          0|   N|                Y|\n",
            "+--------------+-----------+-------------+-----------+----+-----------------+\n",
            "only showing top 20 rows\n",
            "\n"
          ]
        }
      ]
    },
    {
      "cell_type": "markdown",
      "source": [
        "Connect to the AWS RDS instance and write each DataFrame to its table."
      ],
      "metadata": {
        "id": "r0KDx8wluOXK"
      }
    },
    {
      "cell_type": "code",
      "source": [
        "# Configure settings for RDS\n",
        "mode = \"append\"\n",
        "jdbc_url=\"jdbc:postgresql://challengedatabase.crg42ox4n2tq.us-east-1.rds.amazonaws.com:5432/AmazonVine_Reviews\"\n",
        "config = {\"user\":\"postgres\", \n",
        "          \"password\": \"\", \n",
        "          \"driver\":\"org.postgresql.Driver\"}"
      ],
      "metadata": {
        "id": "eIpwZLeduLZJ"
      },
      "execution_count": null,
      "outputs": []
    },
    {
      "cell_type": "code",
      "source": [
        "# Write review_id_df to table in RDS\n",
        "review_id_df.write.jdbc(url=jdbc_url, table='review_id_table', mode=mode, properties=config)"
      ],
      "metadata": {
        "id": "npyGvbFtui_I"
      },
      "execution_count": null,
      "outputs": []
    },
    {
      "cell_type": "code",
      "source": [
        "# Write products_df to table in RDS\n",
        "# about 3 min\n",
        "products_df.write.jdbc(url=jdbc_url, table='products_table', mode=mode, properties=config)"
      ],
      "metadata": {
        "id": "hSlfEFwgunR5"
      },
      "execution_count": null,
      "outputs": []
    },
    {
      "cell_type": "code",
      "source": [
        "# Write customers_df to table in RDS\n",
        "# 5 min 14 s\n",
        "customers_df.write.jdbc(url=jdbc_url, table='customers_table', mode=mode, properties=config)"
      ],
      "metadata": {
        "id": "uYeD9RX3v7M4"
      },
      "execution_count": null,
      "outputs": []
    },
    {
      "cell_type": "code",
      "source": [
        "# Write vine_df to table in RDS\n",
        "# 11 minutes\n",
        "vine_df.write.jdbc(url=jdbc_url, table='vine_table', mode=mode, properties=config)"
      ],
      "metadata": {
        "id": "26b8NCfGx4bq"
      },
      "execution_count": null,
      "outputs": []
    }
  ]
}
